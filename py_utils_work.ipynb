{
 "cells": [
  {
   "cell_type": "code",
   "execution_count": 14,
   "metadata": {},
   "outputs": [],
   "source": [
    "#  Standard Imports\n",
    "import os\n",
    "import shutil\n",
    "import pandas as pd\n",
    "\n",
    "# Testing\n",
    "# import py_workspace_util as pwu"
   ]
  },
  {
   "cell_type": "code",
   "execution_count": null,
   "metadata": {},
   "outputs": [],
   "source": [
    "pwu.move_file(dst_path=\"\",\n",
    "              src_path=\"\",\n",
    "              file_name=\"\")"
   ]
  },
  {
   "cell_type": "code",
   "execution_count": null,
   "metadata": {},
   "outputs": [],
   "source": [
    "pwu.move_files(dst_path=\"\",\n",
    "               src_path=\"\",\n",
    "               file_type=\"\")"
   ]
  },
  {
   "cell_type": "code",
   "execution_count": null,
   "metadata": {},
   "outputs": [],
   "source": [
    "def rename_file(path, old_name, new_name):\n",
    "    old_file = os.path.join(path, old_name)\n",
    "    new_file = os.path.join(path, new_name)\n",
    "    if not os.path.isfile(new_file):\n",
    "        if os.path.isfile(old_file):\n",
    "            os.replace(old_file, new_file)\n",
    "            print(f\"{old_name} has been renamed {new_name}\")\n",
    "        else:\n",
    "            print(f\"ERROR: {old_name} does not exist in {path}\")\n",
    "    else:\n",
    "        print(f\"ERROR: {new_name} already exists in {path}\")"
   ]
  },
  {
   "cell_type": "code",
   "execution_count": null,
   "metadata": {},
   "outputs": [],
   "source": [
    "def rename_files(path, names):\n",
    "    name_dict = pd.read_csv(names)"
   ]
  }
 ],
 "metadata": {
  "kernelspec": {
   "display_name": "base",
   "language": "python",
   "name": "python3"
  },
  "language_info": {
   "codemirror_mode": {
    "name": "ipython",
    "version": 3
   },
   "file_extension": ".py",
   "mimetype": "text/x-python",
   "name": "python",
   "nbconvert_exporter": "python",
   "pygments_lexer": "ipython3",
   "version": "3.12.7"
  }
 },
 "nbformat": 4,
 "nbformat_minor": 2
}
