{
 "cells": [
  {
   "cell_type": "code",
   "execution_count": 1,
   "metadata": {},
   "outputs": [],
   "source": [
    "#  Standard Imports\n",
    "import os\n",
    "import shutil\n",
    "import filecmp\n",
    "import datetime\n",
    "\n",
    "import pandas as pd\n",
    "\n",
    "# Testing\n",
    "# import py_workspace_util as pwu"
   ]
  },
  {
   "cell_type": "code",
   "execution_count": 37,
   "metadata": {},
   "outputs": [],
   "source": [
    "def rename_files(file_path, name_path, name_csv):\n",
    "    today    = datetime.datetime.today().strftime('%Y-%m-%d')\n",
    "    run_time = str(datetime.datetime.now())[11:16].replace(\":\",\"_\")\n",
    "    names = os.path.join(name_path, name_csv)\n",
    "    if os.path.isfile(names):\n",
    "        name_df=pd.read_csv(names)\n",
    "        name_dict=dict(zip(name_df[\"old_name\"], name_df[\"new_name\"]))\n",
    "        with open(f\"logs/{today}-{run_time}-rename_files-log.txt\", \"w\") as py_logger:\n",
    "            py_logger.write(f\"File Location        : {file_path} \\n\")\n",
    "            py_logger.write(f\"File Mapping Location: {name_path} \\n\")\n",
    "            for file in os.listdir(file_path):\n",
    "                dt_now=datetime.datetime.now()\n",
    "                if file in name_dict.keys():\n",
    "                    value=name_dict.get(file)\n",
    "                    old_name=os.path.join(file_path, file)\n",
    "                    new_name=os.path.join(file_path, value)\n",
    "                    os.replace(old_name, new_name)\n",
    "                    print(f\"{file} has been renamed {value}\")\n",
    "                    py_logger.write(f\"{dt_now}: `rename_files()` :{file} has been renamed to: {value} \\n\")\n",
    "    else:\n",
    "        print(f\"ERROR: {names} is not a valid file path\")"
   ]
  },
  {
   "cell_type": "code",
   "execution_count": 39,
   "metadata": {},
   "outputs": [
    {
     "name": "stdout",
     "output_type": "stream",
     "text": [
      "RDS20250827_01.csv has been renamed test_rename_1.csv\n",
      "RDS20250827_02.csv has been renamed test_rename_2.csv\n",
      "RDS20250827_03.csv has been renamed test_rename_3.csv\n",
      "RDS20250827_04.csv has been renamed test_rename_4.csv\n",
      "RDS20250827_05.csv has been renamed test_rename_5.csv\n"
     ]
    }
   ],
   "source": [
    "rename_files(file_path=\"C:/Users/andre/Desktop/Stuff/Dummy_Files\",\n",
    "             name_path=\"C:/Users/andre/Desktop/Stuff/Dummy_Files\",\n",
    "             name_csv=\"name_mapping.csv\")"
   ]
  },
  {
   "cell_type": "code",
   "execution_count": null,
   "metadata": {},
   "outputs": [],
   "source": []
  }
 ],
 "metadata": {
  "kernelspec": {
   "display_name": "base",
   "language": "python",
   "name": "python3"
  },
  "language_info": {
   "codemirror_mode": {
    "name": "ipython",
    "version": 3
   },
   "file_extension": ".py",
   "mimetype": "text/x-python",
   "name": "python",
   "nbconvert_exporter": "python",
   "pygments_lexer": "ipython3",
   "version": "3.12.7"
  }
 },
 "nbformat": 4,
 "nbformat_minor": 2
}
