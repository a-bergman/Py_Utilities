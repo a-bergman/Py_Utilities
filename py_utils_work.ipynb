{
 "cells": [
  {
   "cell_type": "code",
   "execution_count": 28,
   "metadata": {},
   "outputs": [],
   "source": [
    "#  Standard Imports\n",
    "import os\n",
    "import shutil\n",
    "import filecmp\n",
    "import datetime\n",
    "import pathlib\n",
    "import hashlib\n",
    "\n",
    "import pandas as pd\n",
    "\n",
    "from collections import Counter\n",
    "# Testing\n",
    "# import py_workspace_util as pwu"
   ]
  },
  {
   "cell_type": "code",
   "execution_count": null,
   "metadata": {},
   "outputs": [],
   "source": [
    "def dir_duplicate_check(path):\n",
    "    \"\"\"\n",
    "    Parameters:\n",
    "    -----------\n",
    "    path : path to destination directory   : str : :\n",
    "\n",
    "     Description:\n",
    "    ------------\n",
    "    Loops through all files in the `path` directory and uses a md5 has to check for duplicates.\n",
    "\n",
    "    Returns:\n",
    "    --------\n",
    "    A record file in `/logs` with the date, time, and function name in the title of the file; prints results if duplicates are found.\n",
    "    \n",
    "    The record file and print statement will be empty if no duplicates are found.\n",
    "\n",
    "    \"\"\"\n",
    "    # Getting the date in YYYY-MM-DD format &\n",
    "    # the time in HH:MM format. Both are used for\n",
    "    # naming the log file. The HH:MM is used to\n",
    "    # prevent files being overridden\n",
    "    today    = datetime.datetime.today().strftime('%Y-%m-%d')\n",
    "    run_time = str(datetime.datetime.now())[11:16].replace(\":\",\"_\")\n",
    "    # Defining the full path to the file being moved\n",
    "    # Create an empty dictionary\n",
    "    file_dict = dict()\n",
    "    # Validating the path of files to be checked\n",
    "    if os.path.isdir(path):\n",
    "        # Looping through the directory\n",
    "        for file in os.listdir(path):\n",
    "            # Creating a full filepath for each file\n",
    "            full_path    = os.path.join(path, file)\n",
    "            # Reading each file and creating a md5 has for each\n",
    "            # and then adding each file name and md5 as key:value\n",
    "            # pairs to the dictionary\n",
    "            file_hash    = hashlib.md5(open(full_path, \"rb\").read()).hexdigest()\n",
    "            file_dict[file] = file_hash\n",
    "    # Creating a Counter\n",
    "    count_dict = Counter(unique.values())\n",
    "    # Extracting the dict values and counting\n",
    "    # If the hash value is duplicated there are duplicate files then saving duplicates to a new variable\n",
    "    results    = [key for key, value in file_dict.items() if count_dict[value] > 1]\n",
    "    # Writing a confirmation to the log file for the renamed file\n",
    "    # No files are being modified, but it is good to have a record for posterity\n",
    "    with open(f\"logs/{today}-{run_time}-dir_duplicate_check-record.txt\", \"w\") as py_logger:\n",
    "        dt_now=datetime.datetime.now().strftime(\"%Y-%m-%d %H:%M:%S\")\n",
    "        py_logger.write(f\"Day          : {today} @ {str(datetime.datetime.now())[11:16]} \\n\")\n",
    "        py_logger.write(f\"Analyst      : To be added \\n\")\n",
    "        py_logger.write(f\"Directory    : {path} \\n\")\n",
    "        py_logger.write(f\"Function Run : dir_duplicate_check() \\n\\n\")\n",
    "        # Will be empty if there are no duplicates\n",
    "        py_logger.write(f\">> {dt_now}: Duplicates = {results} \\n\\n\")\n",
    "    # Print message for the user\n",
    "    print(f\">> Checking {path} For Duplicates\", sep=\"\\n\")\n",
    "    print(f\">> No File Names Will Be Printed If There Are None\", sep=\"\\n\")\n",
    "    print(f\">> -----------------------------------------------\", sep=\"\\n\")\n",
    "    print(*results, sep=\"\\n\")"
   ]
  },
  {
   "cell_type": "code",
   "execution_count": 94,
   "metadata": {},
   "outputs": [
    {
     "name": "stdout",
     "output_type": "stream",
     "text": [
      ">> Checking C:/Users/andre/Documents/Sample For Duplicates\n",
      ">> No File Names Will Be Printed If There Are None\n",
      ">> -----------------------------------------------\n",
      "RDS20250827_01.csv\n",
      "RDS20250827_02.csv\n",
      "RDS20250827_03.csv\n",
      "RDS20250827_04.csv\n",
      "RDS20250827_05.csv\n"
     ]
    }
   ],
   "source": [
    "dir_duplicate_check(path=\"C:/Users/andre/Documents/Sample\")"
   ]
  },
  {
   "cell_type": "code",
   "execution_count": 95,
   "metadata": {},
   "outputs": [
    {
     "name": "stdout",
     "output_type": "stream",
     "text": [
      ">> Checking C:/Users/andre/Documents/Udemy/R For Stats & DS/Data For Duplicates\n",
      ">> No File Names Will Be Printed If There Are None\n",
      ">> -----------------------------------------------\n",
      "\n"
     ]
    }
   ],
   "source": [
    "dir_duplicate_check(path = \"C:/Users/andre/Documents/Udemy/R For Stats & DS/Data\")"
   ]
  },
  {
   "cell_type": "code",
   "execution_count": 21,
   "metadata": {},
   "outputs": [],
   "source": [
    "path = \"C:/Users/andre/Documents/Sample\"\n",
    "\n",
    "unique = dict()\n",
    "\n",
    "for file in os.listdir(path):\n",
    "    full_path = os.path.join(path, file)\n",
    "    file_hash = hashlib.md5(open(full_path, \"rb\").read()).hexdigest()\n",
    "    unique[file] = file_hash"
   ]
  },
  {
   "cell_type": "code",
   "execution_count": 26,
   "metadata": {},
   "outputs": [],
   "source": [
    "values_list = list(unique.values())"
   ]
  },
  {
   "cell_type": "code",
   "execution_count": 27,
   "metadata": {},
   "outputs": [
    {
     "name": "stdout",
     "output_type": "stream",
     "text": [
      "e90efcb83d69faf99fcab8b0255024de\n",
      "e90efcb83d69faf99fcab8b0255024de\n",
      "e90efcb83d69faf99fcab8b0255024de\n",
      "e90efcb83d69faf99fcab8b0255024de\n",
      "e90efcb83d69faf99fcab8b0255024de\n"
     ]
    }
   ],
   "source": [
    "for value in unique.values():\n",
    "    if values_list.count(value) > 1:\n",
    "        print(value)\n",
    "    else:\n",
    "        pass"
   ]
  },
  {
   "cell_type": "code",
   "execution_count": null,
   "metadata": {},
   "outputs": [],
   "source": [
    "count_dict = Counter(ini_dict.values())\n",
    "result = [key for key, value in ini_dict.items() if count_dict[value] > 1]"
   ]
  },
  {
   "cell_type": "code",
   "execution_count": 81,
   "metadata": {},
   "outputs": [
    {
     "data": {
      "text/plain": [
       "'16:46'"
      ]
     },
     "execution_count": 81,
     "metadata": {},
     "output_type": "execute_result"
    }
   ],
   "source": [
    "str(datetime.datetime.now())[11:16]"
   ]
  },
  {
   "cell_type": "code",
   "execution_count": 86,
   "metadata": {},
   "outputs": [
    {
     "data": {
      "text/plain": [
       "'16:48'"
      ]
     },
     "execution_count": 86,
     "metadata": {},
     "output_type": "execute_result"
    }
   ],
   "source": [
    "run_time = str(datetime.datetime.now())[11:16]\n",
    "run_time"
   ]
  },
  {
   "cell_type": "code",
   "execution_count": null,
   "metadata": {},
   "outputs": [],
   "source": []
  }
 ],
 "metadata": {
  "kernelspec": {
   "display_name": "base",
   "language": "python",
   "name": "python3"
  },
  "language_info": {
   "codemirror_mode": {
    "name": "ipython",
    "version": 3
   },
   "file_extension": ".py",
   "mimetype": "text/x-python",
   "name": "python",
   "nbconvert_exporter": "python",
   "pygments_lexer": "ipython3",
   "version": "3.12.7"
  }
 },
 "nbformat": 4,
 "nbformat_minor": 2
}
