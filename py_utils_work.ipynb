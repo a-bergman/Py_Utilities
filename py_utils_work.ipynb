{
 "cells": [
  {
   "cell_type": "code",
   "execution_count": 1,
   "metadata": {},
   "outputs": [],
   "source": [
    "#  Standard Imports\n",
    "import os\n",
    "import shutil\n",
    "import pandas as pd\n",
    "\n",
    "# Testing\n",
    "# import py_workspace_util as pwu"
   ]
  },
  {
   "cell_type": "code",
   "execution_count": null,
   "metadata": {},
   "outputs": [],
   "source": [
    "pwu.move_file(dst_path=\"\",\n",
    "              src_path=\"\",\n",
    "              file_name=\"\")"
   ]
  },
  {
   "cell_type": "code",
   "execution_count": null,
   "metadata": {},
   "outputs": [],
   "source": [
    "pwu.move_files(dst_path=\"\",\n",
    "               src_path=\"\",\n",
    "               file_type=\"\")"
   ]
  },
  {
   "cell_type": "code",
   "execution_count": null,
   "metadata": {},
   "outputs": [],
   "source": [
    "def rename_file(path, old_name, new_name):\n",
    "    old_file = os.path.join(path, old_name)\n",
    "    new_file = os.path.join(path, new_name)\n",
    "    if not os.path.isfile(new_file):\n",
    "        if os.path.isfile(old_file):\n",
    "            os.replace(old_file, new_file)\n",
    "            print(f\"{old_name} has been renamed {new_name}\")\n",
    "        else:\n",
    "            print(f\"ERROR: {old_name} does not exist in {path}\")\n",
    "    else:\n",
    "        print(f\"ERROR: {new_name} already exists in {path}\")"
   ]
  },
  {
   "cell_type": "code",
   "execution_count": null,
   "metadata": {},
   "outputs": [],
   "source": [
    "def rename_files(path, names):\n",
    "    name_dict = pd.read_csv(names)"
   ]
  },
  {
   "cell_type": "code",
   "execution_count": 44,
   "metadata": {},
   "outputs": [],
   "source": [
    "df=pd.read_csv(\"C:/Users/andre/Desktop/Stuff/Dummy_Files/name_mapping.csv\")\n"
   ]
  },
  {
   "cell_type": "code",
   "execution_count": 46,
   "metadata": {},
   "outputs": [
    {
     "name": "stdout",
     "output_type": "stream",
     "text": [
      "{'RDS20250827_01.csv': 'test_rename_1.csv', 'RDS20250827_02.csv': 'test_rename_2.csv', 'RDS20250827_03.csv': 'test_rename_3.csv', 'RDS20250827_04.csv': 'test_rename_4.csv', 'RDS20250827_05.csv': 'test_rename_5.csv'}\n"
     ]
    }
   ],
   "source": [
    "test_dict = dict(zip(df[\"old_name\"], df[\"new_name\"]))\n",
    "print(test_dict)"
   ]
  },
  {
   "cell_type": "code",
   "execution_count": 47,
   "metadata": {},
   "outputs": [
    {
     "name": "stdout",
     "output_type": "stream",
     "text": [
      "RDS20250827_05\n",
      "RDS20250827_05\n",
      "RDS20250827_05\n",
      "RDS20250827_05\n",
      "RDS20250827_05\n"
     ]
    }
   ],
   "source": [
    "cwd = \"C:/Users/andre/Desktop/Stuff/Dummy_Files\"\n",
    "\n",
    "for file in os.listdir(cwd):\n",
    "    if file in test_dict.keys():\n",
    "        print(key)"
   ]
  },
  {
   "cell_type": "code",
   "execution_count": 48,
   "metadata": {},
   "outputs": [
    {
     "data": {
      "text/plain": [
       "dict_keys(['RDS20250827_01.csv', 'RDS20250827_02.csv', 'RDS20250827_03.csv', 'RDS20250827_04.csv', 'RDS20250827_05.csv'])"
      ]
     },
     "execution_count": 48,
     "metadata": {},
     "output_type": "execute_result"
    }
   ],
   "source": [
    "test_dict.keys()"
   ]
  },
  {
   "cell_type": "code",
   "execution_count": 52,
   "metadata": {},
   "outputs": [
    {
     "name": "stdout",
     "output_type": "stream",
     "text": [
      "test_rename_1.csv\n",
      "test_rename_2.csv\n",
      "test_rename_3.csv\n",
      "test_rename_4.csv\n",
      "test_rename_5.csv\n"
     ]
    }
   ],
   "source": [
    "for file in os.listdir(cwd):\n",
    "    if file in test_dict.keys():\n",
    "        print(test_dict.get(file))"
   ]
  },
  {
   "cell_type": "code",
   "execution_count": null,
   "metadata": {},
   "outputs": [],
   "source": []
  }
 ],
 "metadata": {
  "kernelspec": {
   "display_name": "base",
   "language": "python",
   "name": "python3"
  },
  "language_info": {
   "codemirror_mode": {
    "name": "ipython",
    "version": 3
   },
   "file_extension": ".py",
   "mimetype": "text/x-python",
   "name": "python",
   "nbconvert_exporter": "python",
   "pygments_lexer": "ipython3",
   "version": "3.12.7"
  }
 },
 "nbformat": 4,
 "nbformat_minor": 2
}
