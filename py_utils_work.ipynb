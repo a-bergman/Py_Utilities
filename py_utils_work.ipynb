{
 "cells": [
  {
   "cell_type": "code",
   "execution_count": 8,
   "metadata": {},
   "outputs": [],
   "source": [
    "#  Standard Imports\n",
    "import os\n",
    "import shutil\n",
    "import filecmp\n",
    "import datetime\n",
    "import pathlib\n",
    "import hashlib\n",
    "\n",
    "import pandas as pd\n",
    "\n",
    "from collections import Counter\n",
    "# Testing\n",
    "# import py_workspace_util as pwu"
   ]
  },
  {
   "cell_type": "code",
   "execution_count": 10,
   "metadata": {},
   "outputs": [
    {
     "name": "stdout",
     "output_type": "stream",
     "text": [
      "12꞉49 vs 12꞉49\n"
     ]
    }
   ],
   "source": [
    "run_time=str(datetime.datetime.now())[11:16]\n",
    "run_time2=run_time=str(datetime.datetime.now())[11:16].replace(\":\",\"꞉\")\n",
    "print(f\"{run_time} vs {run_time2}\")"
   ]
  },
  {
   "cell_type": "code",
   "execution_count": null,
   "metadata": {},
   "outputs": [],
   "source": []
  }
 ],
 "metadata": {
  "kernelspec": {
   "display_name": "base",
   "language": "python",
   "name": "python3"
  },
  "language_info": {
   "codemirror_mode": {
    "name": "ipython",
    "version": 3
   },
   "file_extension": ".py",
   "mimetype": "text/x-python",
   "name": "python",
   "nbconvert_exporter": "python",
   "pygments_lexer": "ipython3",
   "version": "3.12.7"
  }
 },
 "nbformat": 4,
 "nbformat_minor": 2
}
