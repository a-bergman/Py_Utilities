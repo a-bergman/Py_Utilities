{
 "cells": [
  {
   "cell_type": "code",
   "execution_count": 1,
   "metadata": {},
   "outputs": [],
   "source": [
    "#  Standard Imports\n",
    "import os\n",
    "import shutil"
   ]
  },
  {
   "cell_type": "code",
   "execution_count": null,
   "metadata": {},
   "outputs": [],
   "source": [
    "def move_file(dst_path,src_path,file_name):\n",
    "    \"\"\"\n",
    "    Parameters:\n",
    "    -----------\n",
    "    dst_path  : path to destination directory   : str : :\n",
    "    src_path  : path of the source directory    : str : :\n",
    "    file_name : name of the file with extension : str : :\n",
    "\n",
    "    Description:\n",
    "    ------------\n",
    "    Moves the named file from the source directory to the destination directory and prints a confirmation.\n",
    "\n",
    "    Returns:\n",
    "    --------\n",
    "    N/A; confirmation that file was moved to the destination.\n",
    "    \"\"\"\n",
    "    # TO DO:\n",
    "    # A better way to handle validating \n",
    "    # each argument separately to avoid\n",
    "    # the nested if statements.\n",
    "\n",
    "    # Defining the full path to the file being moved\n",
    "    file_path = os.path.join(src_path, file_name)\n",
    "    # Making sure the destination is valid\n",
    "    if os.path.isdir(dst_path):\n",
    "        # Making sure the source location is valid\n",
    "        if os.path.isdir(src_path):\n",
    "            # Making sure the file exists in the source\n",
    "            if os.path.isfile(file_path):\n",
    "                # Defining the destination location\n",
    "                # Printing confirmation of success\n",
    "                destination = os.path.join(dst_path,file_name)\n",
    "                shutil.move(file_path, destination)\n",
    "                print(f\"{file_name} has been successfully moved: {destination}\")\n",
    "            else:\n",
    "                print(f\"The file {file_path} does not exist.\")\n",
    "        else:\n",
    "            print(f\"ERROR: Source {src_path} is an invalid directory.\")\n",
    "    else:\n",
    "        print(f\"ERROR: Destination {dst_path} is an invalid directory.\")"
   ]
  },
  {
   "cell_type": "code",
   "execution_count": 54,
   "metadata": {},
   "outputs": [
    {
     "name": "stdout",
     "output_type": "stream",
     "text": [
      "veeva_historical_data.csv has been successfully moved: C:/Users/andre/Documents/Sample\\veeva_historical_data.csv\n"
     ]
    }
   ],
   "source": [
    "move_file(dst_path = 'C:/Users/andre/Documents/Sample',\n",
    "          src_path = 'C:/Users/andre/Desktop/Stuff',\n",
    "          file_name = 'veeva_historical_data.csv')"
   ]
  },
  {
   "cell_type": "code",
   "execution_count": null,
   "metadata": {},
   "outputs": [],
   "source": []
  }
 ],
 "metadata": {
  "kernelspec": {
   "display_name": "base",
   "language": "python",
   "name": "python3"
  },
  "language_info": {
   "codemirror_mode": {
    "name": "ipython",
    "version": 3
   },
   "file_extension": ".py",
   "mimetype": "text/x-python",
   "name": "python",
   "nbconvert_exporter": "python",
   "pygments_lexer": "ipython3",
   "version": "3.12.7"
  }
 },
 "nbformat": 4,
 "nbformat_minor": 2
}
