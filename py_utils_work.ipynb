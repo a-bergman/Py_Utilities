{
 "cells": [
  {
   "cell_type": "code",
   "execution_count": 1,
   "metadata": {},
   "outputs": [],
   "source": [
    "#  Standard Imports\n",
    "import os\n",
    "import shutil\n",
    "import filecmp\n",
    "import datetime\n",
    "import pathlib\n",
    "\n",
    "import pandas as pd\n",
    "\n",
    "# Testing\n",
    "import py_workspace_util as pwu"
   ]
  },
  {
   "cell_type": "code",
   "execution_count": null,
   "metadata": {},
   "outputs": [],
   "source": [
    "def rename_files(file_path, name_path, name_csv):\n",
    "    # Getting the date in YYYY-MM-DD format &\n",
    "    # the time in HH:MM format. Both are used for\n",
    "    # naming the log file. The HH:MM is used to\n",
    "    # prevent files being overridden\n",
    "    today    = datetime.datetime.today().strftime('%Y-%m-%d')\n",
    "    run_time = str(datetime.datetime.now())[11:16].replace(\":\",\"_\")\n",
    "    # Creating file path to name_csv\n",
    "    names = os.path.join(name_path, name_csv)\n",
    "    # Making sure it exists\n",
    "    if os.path.isfile(names):\n",
    "        # Reading the .csv in\n",
    "        # Converting to dictionary\n",
    "        name_df=pd.read_csv(names)\n",
    "        # .csv must have those two column headers\n",
    "        name_dict=dict(zip(name_df[\"old_name\"], name_df[\"new_name\"]))\n",
    "        # Creating a .txt file to act as our log file\n",
    "        with open(f\"logs/{today}-{run_time}-rename_files-log.txt\", \"w\") as py_logger:\n",
    "            # Adding the location of the name dictionary & files to be renamed\n",
    "            py_logger.write(f\"File Location        : {file_path} \\n\")\n",
    "            py_logger.write(f\"File Mapping Location: {name_path} \\n\")\n",
    "            # Looping through the directory where the files to be renamed are\n",
    "            for file in os.listdir(file_path):\n",
    "                # Getting the time that each loop runs at\n",
    "                dt_now=datetime.datetime.now()\n",
    "                # Finding the ones that are also key values\n",
    "                # Ignores files that aren't specified to be renamed\n",
    "                if file in name_dict.keys():\n",
    "                    # Extracting the value from the key:value pair\n",
    "                    # Renaming the file(s)\n",
    "                    value=name_dict.get(file)\n",
    "                    old_name=os.path.join(file_path, file)\n",
    "                    new_name=os.path.join(file_path, value)\n",
    "                     # `os.replace` is preferred to `os.rename` in Python versions >3.3\n",
    "                    os.replace(old_name, new_name)\n",
    "                    # Printing confirmation\n",
    "                    print(f\"{file} has been renamed {value}\")\n",
    "                    # Writing a confirmation to the log file when the function has run\n",
    "                    py_logger.write(f\"{dt_now}: `rename_files()` :{file} has been renamed to: {value} \\n\")\n",
    "    else:\n",
    "        print(f\"ERROR: {names} is not a valid file path\")"
   ]
  },
  {
   "cell_type": "code",
   "execution_count": null,
   "metadata": {},
   "outputs": [],
   "source": [
    "rename_files(file_path=\"C:/Users/andre/Desktop/Stuff/Dummy_Files\",\n",
    "             name_path=\"C:/Users/andre/Desktop/Stuff/Dummy_Files\",\n",
    "             name_csv=\"name_mapping.csv\")"
   ]
  },
  {
   "cell_type": "code",
   "execution_count": null,
   "metadata": {},
   "outputs": [],
   "source": [
    "def rename_file(path, old_name, new_name):\n",
    "    # Getting the date in YYYY-MM-DD format &\n",
    "    # the time in HH:MM format. Both are used for\n",
    "    # naming the log file. The HH:MM is used to\n",
    "    # prevent files being overridden\n",
    "    today    = datetime.datetime.today().strftime('%Y-%m-%d')\n",
    "    run_time = str(datetime.datetime.now())[11:16].replace(\":\",\"_\")\n",
    "    # Creating file paths\n",
    "    old_file = os.path.join(path, old_name)\n",
    "    new_file = os.path.join(path, new_name)\n",
    "    # Validating the a file with the new name doesn't already exist\n",
    "    if not os.path.isfile(new_file):\n",
    "        # Validating the existing file exists\n",
    "        if os.path.isfile(old_file):\n",
    "            # Creating a .txt file to act as our log file\n",
    "            with open(f\"logs/{today}-{run_time}-rename_file-log.txt\", \"w\") as py_logger:\n",
    "                # Getting the exact time that each loop runs at\n",
    "                dt_now=datetime.datetime.now()\n",
    "                # Adding the path, new, and old file names to the log file\n",
    "                py_logger.write(f\"File Location : {path} \\n\")\n",
    "                py_logger.write(f\"Old File Name : {old_name} \\n\")\n",
    "                py_logger.write(f\"New File Name : {new_name} \\n\")\n",
    "                # os.replace is preferred to `os.rename` in Python versions >3.3\n",
    "                os.replace(old_file, new_file)\n",
    "                # Printing a confirmation\n",
    "                print(f\"{old_name} has been renamed {new_name}\")\n",
    "                # Writing a confirmation to the log file for the renamed file\n",
    "                py_logger.write(f\"{dt_now}: `rename_file()` :{old_name} has been renamed to: {new_name} \\n\")\n",
    "        else: \n",
    "            print(f\"ERROR: {old_name} does not exist in {path}\")\n",
    "    else:\n",
    "        print(f\"ERROR: {new_name} already exists in {path}\")"
   ]
  },
  {
   "cell_type": "code",
   "execution_count": null,
   "metadata": {},
   "outputs": [],
   "source": [
    "rename_file(path = \"C:/Users/andre/Desktop/Stuff/Dummy_Files\",\n",
    "            old_name = \"RDS20250827_06.json\",\n",
    "            new_name = \"json_test_rename_1.json\")"
   ]
  },
  {
   "cell_type": "code",
   "execution_count": null,
   "metadata": {},
   "outputs": [],
   "source": [
    "def move_file(dst_path,src_path,file_name):\n",
    "    # Getting the date in YYYY-MM-DD format &\n",
    "    # the time in HH:MM format. Both are used for\n",
    "    # naming the log file. The HH:MM is used to\n",
    "    # prevent files being overridden\n",
    "    today    = datetime.datetime.today().strftime('%Y-%m-%d')\n",
    "    run_time = str(datetime.datetime.now())[11:16].replace(\":\",\"_\")\n",
    "    # Defining the full path to the file being moved\n",
    "    file_path=os.path.join(src_path, file_name)\n",
    "     # Making sure the destination is valid\n",
    "    if os.path.isdir(dst_path):\n",
    "        # Making sure the source location is valid\n",
    "        if os.path.isdir(src_path):\n",
    "            # Making sure the file exists in the source\n",
    "            if os.path.isfile(file_path):\n",
    "                # Creating a .txt file to act as our log file\n",
    "                 with open(f\"logs/{today}-{run_time}-move_file-log.txt\", \"w\") as py_logger:\n",
    "                    # Getting the exact time that each code runs at\n",
    "                    dt_now=datetime.datetime.now()\n",
    "                    # Adding the path, new, and old file names to the log file\n",
    "                    py_logger.write(f\"Source Path      : {src_path} \\n\")\n",
    "                    py_logger.write(f\"Destination Path : {dst_path} \\n\")\n",
    "                    py_logger.write(f\"File Name        : {file_name} \\n\")\n",
    "                    # Defining the destination location\n",
    "                    # Printing confirmation of success\n",
    "                    destination=os.path.join(dst_path,file_name)\n",
    "                    shutil.move(file_path, destination)\n",
    "                    # Printing a confirmation\n",
    "                    print(f\"{file_name} has been successfully moved: {destination}\")\n",
    "                    # Writing a confirmation to the log file for the renamed file\n",
    "                    py_logger.write(f\"{dt_now}: `move_file()` : {file_name} from {dst_path} to {src_path} \\n\")\n",
    "            else:\n",
    "                print(f\"The file {file_path} does not exist.\")\n",
    "        else:\n",
    "            print(f\"ERROR: Source {src_path} is an invalid directory.\")\n",
    "    else:\n",
    "        print(f\"ERROR: Destination {dst_path} is an invalid directory.\")"
   ]
  },
  {
   "cell_type": "code",
   "execution_count": null,
   "metadata": {},
   "outputs": [],
   "source": [
    "move_file(dst_path  = \"C:/Users/andre/Documents/Sample\",\n",
    "          src_path  = \"C:/Users/andre/Desktop/Stuff/Dummy_Files\",\n",
    "          file_name = \"src_listings.sql\")"
   ]
  },
  {
   "cell_type": "code",
   "execution_count": null,
   "metadata": {},
   "outputs": [],
   "source": [
    "def move_files(dst_path, src_path, file_type):\n",
    "    # Getting the date in YYYY-MM-DD format &\n",
    "    # the time in HH:MM format. Both are used for\n",
    "    # naming the log file. The HH:MM is used to\n",
    "    # prevent files being overridden\n",
    "    today    = datetime.datetime.today().strftime('%Y-%m-%d')\n",
    "    run_time = str(datetime.datetime.now())[11:16].replace(\":\",\"_\")\n",
    "    # Validating the destination\n",
    "    if os.path.isdir(dst_path):\n",
    "        # Validating the source\n",
    "        if os.path.isdir(src_path):\n",
    "           # Creating a .txt file to act as our log file\n",
    "           with open(f\"logs/{today}-{run_time}-move_files-log.txt\", \"w\") as py_logger:\n",
    "            # Adding the location of the name dictionary & files to be renamed\n",
    "            py_logger.write(f\"File Type        : {file_type} \\n\")\n",
    "            py_logger.write(f\"Source Path      : {src_path} \\n\")\n",
    "            py_logger.write(f\"Destination Path : {dst_path} \\n\")\n",
    "            # Looping through the source directory\n",
    "            for file in os.listdir(src_path):\n",
    "                # Getting the exact time that each loop runs at\n",
    "                dt_now=datetime.datetime.now()\n",
    "                # Getting the file name and type for each\n",
    "                file_name=os.fsdecode(file)\n",
    "                # Selecting the files that match input\n",
    "                if file_name.endswith(file_type):\n",
    "                    # Creating file paths and moving files\n",
    "                    source=os.path.join(src_path,file_name)\n",
    "                    destination=os.path.join(dst_path,file_name)\n",
    "                    shutil.move(source,destination)\n",
    "                    # Printing a confirmation\n",
    "                    print(f\"{file_name} successfully moved to {dst_path}\")\n",
    "                    # Writing a confirmation to the log file for each renamed file\n",
    "                    py_logger.write(f\"{dt_now}: `move_files()` : {file} from {src_path} to {dst_path} \\n\")\n",
    "        else:\n",
    "            print(f\"ERROR: Source {src_path} is an invalid directory.\")\n",
    "    else:\n",
    "         print(f\"ERROR: Destination {dst_path} is an invalid directory.\")"
   ]
  },
  {
   "cell_type": "code",
   "execution_count": 27,
   "metadata": {},
   "outputs": [
    {
     "name": "stdout",
     "output_type": "stream",
     "text": [
      "json_test_rename_1.json successfully moved to C:/Users/andre/Documents/Sample\n",
      "RDS20250827_07.json successfully moved to C:/Users/andre/Documents/Sample\n"
     ]
    }
   ],
   "source": [
    "move_files(dst_path = \"C:/Users/andre/Documents/Sample\",\n",
    "           src_path = \"C:/Users/andre/Desktop/Stuff/Dummy_Files\",\n",
    "           file_type = '.json')"
   ]
  },
  {
   "cell_type": "code",
   "execution_count": null,
   "metadata": {},
   "outputs": [],
   "source": []
  },
  {
   "cell_type": "code",
   "execution_count": null,
   "metadata": {},
   "outputs": [],
   "source": [
    "file_type = \".sql\"\n",
    "\n",
    "for file in os.listdir(\"C:/Users/andre/Desktop/Stuff/Dummy_Files\"):\n",
    "    if file.endswith(file_type):\n",
    "        print(f\"{file}\")"
   ]
  },
  {
   "cell_type": "code",
   "execution_count": null,
   "metadata": {},
   "outputs": [],
   "source": [
    "pwu.move_files(dst_path = \"C:/Users/andre/Documents/Sample\",\n",
    "               src_path = \"C:/Users/andre/Desktop/Stuff/Dummy_Files\",\n",
    "               file_type = \".sql\")"
   ]
  },
  {
   "cell_type": "code",
   "execution_count": null,
   "metadata": {},
   "outputs": [],
   "source": []
  }
 ],
 "metadata": {
  "kernelspec": {
   "display_name": "base",
   "language": "python",
   "name": "python3"
  },
  "language_info": {
   "codemirror_mode": {
    "name": "ipython",
    "version": 3
   },
   "file_extension": ".py",
   "mimetype": "text/x-python",
   "name": "python",
   "nbconvert_exporter": "python",
   "pygments_lexer": "ipython3",
   "version": "3.12.7"
  }
 },
 "nbformat": 4,
 "nbformat_minor": 2
}
